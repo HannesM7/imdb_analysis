{
 "cells": [
  {
   "metadata": {
    "ExecuteTime": {
     "end_time": "2024-05-15T18:23:51.847138Z",
     "start_time": "2024-05-15T18:23:47.454411Z"
    }
   },
   "cell_type": "code",
   "source": [
    "import pandas as pd\n",
    "from sklearn.feature_extraction.text import TfidfVectorizer\n",
    "from sklearn.decomposition import TruncatedSVD\n",
    "import seaborn as sns\n",
    "import matplotlib.pyplot as plt"
   ],
   "id": "d3144d2f9f2ecd01",
   "outputs": [],
   "execution_count": 21
  },
  {
   "metadata": {
    "ExecuteTime": {
     "end_time": "2024-05-15T18:23:54.430946Z",
     "start_time": "2024-05-15T18:23:53.928118Z"
    }
   },
   "cell_type": "code",
   "source": [
    "# Create a pandas DataFrame\n",
    "csv_file = r'C:\\Users\\hmuen\\PycharmProjects\\imdb_analysis\\data\\IMDB Dataset.csv'\n",
    "df = pd.read_csv(csv_file)"
   ],
   "id": "c857b0ad7bdd67e2",
   "outputs": [],
   "execution_count": 22
  },
  {
   "metadata": {
    "ExecuteTime": {
     "end_time": "2024-05-15T18:24:02.667590Z",
     "start_time": "2024-05-15T18:23:58.292734Z"
    }
   },
   "cell_type": "code",
   "source": [
    "vectorizer = TfidfVectorizer(stop_words='english')\n",
    "X = vectorizer.fit_transform(df['review'])"
   ],
   "id": "c5858523b409646",
   "outputs": [],
   "execution_count": 23
  },
  {
   "metadata": {
    "ExecuteTime": {
     "end_time": "2024-05-15T18:24:05.258664Z",
     "start_time": "2024-05-15T18:24:04.205783Z"
    }
   },
   "cell_type": "code",
   "source": [
    "# Perform truncated SVD\n",
    "svd = TruncatedSVD(n_components=10)\n",
    "decomposed_matrix = svd.fit_transform(X)"
   ],
   "id": "2e5a60841d18cc67",
   "outputs": [],
   "execution_count": 24
  },
  {
   "metadata": {
    "ExecuteTime": {
     "end_time": "2024-05-15T18:24:06.898310Z",
     "start_time": "2024-05-15T18:24:06.778771Z"
    }
   },
   "cell_type": "code",
   "source": [
    "# Get topics\n",
    "terms = vectorizer.get_feature_names_out()\n",
    "topic_weights = svd.components_\n",
    "topics = []\n",
    "for i, topic_weights_ in enumerate(topic_weights):\n",
    "    top_terms = [terms[idx] for idx in topic_weights_.argsort()[:-10:-1]]\n",
    "    topics.append(top_terms)"
   ],
   "id": "8175cbed10f118ba",
   "outputs": [],
   "execution_count": 25
  },
  {
   "metadata": {
    "ExecuteTime": {
     "end_time": "2024-05-15T18:24:08.708012Z",
     "start_time": "2024-05-15T18:24:08.705342Z"
    }
   },
   "cell_type": "code",
   "source": [
    "# Print topics\n",
    "for i, topic in enumerate(topics):\n",
    "    print(f\"Topic {i+1}:\")\n",
    "    print(\", \".join(topic))"
   ],
   "id": "1850fc65b8c3daa4",
   "outputs": [
    {
     "name": "stdout",
     "output_type": "stream",
     "text": [
      "Topic 1:\n",
      "br, movie, film, like, just, good, really, bad, time\n",
      "Topic 2:\n",
      "br, spoilers, fiend, uk, spoiler, rates, nuclear, http, mgm\n",
      "Topic 3:\n",
      "movie, br, movies, bad, watch, worst, don, stupid, horrible\n",
      "Topic 4:\n",
      "bad, film, worst, acting, horror, terrible, awful, waste, effects\n",
      "Topic 5:\n",
      "series, episode, just, bad, like, episodes, really, funny, guy\n",
      "Topic 6:\n",
      "funny, watch, think, film, don, just, great, really, seen\n",
      "Topic 7:\n",
      "good, great, series, acting, action, best, cast, bad, story\n",
      "Topic 8:\n",
      "series, seen, ve, time, worst, movies, tv, book, horror\n",
      "Topic 9:\n",
      "bad, book, story, acting, characters, read, character, series, actors\n",
      "Topic 10:\n",
      "bad, funny, comedy, seen, worst, best, ve, movies, laugh\n"
     ]
    }
   ],
   "execution_count": 26
  }
 ],
 "metadata": {
  "kernelspec": {
   "display_name": "Python 3",
   "language": "python",
   "name": "python3"
  },
  "language_info": {
   "codemirror_mode": {
    "name": "ipython",
    "version": 2
   },
   "file_extension": ".py",
   "mimetype": "text/x-python",
   "name": "python",
   "nbconvert_exporter": "python",
   "pygments_lexer": "ipython2",
   "version": "2.7.6"
  }
 },
 "nbformat": 4,
 "nbformat_minor": 5
}
