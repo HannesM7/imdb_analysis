{
 "cells": [
  {
   "metadata": {
    "ExecuteTime": {
     "end_time": "2024-06-07T17:20:24.262215700Z",
     "start_time": "2024-06-07T17:20:24.243251Z"
    }
   },
   "cell_type": "code",
   "source": [
    "import pandas as pd\n",
    "from sklearn.feature_extraction.text import TfidfVectorizer\n",
    "from nltk.corpus import stopwords\n",
    "from sklearn.decomposition import TruncatedSVD\n",
    "import seaborn as sns\n",
    "import matplotlib.pyplot as plt\n",
    "import numpy as np"
   ],
   "id": "d3144d2f9f2ecd01",
   "outputs": [],
   "execution_count": 41
  },
  {
   "cell_type": "code",
   "execution_count": 42,
   "outputs": [
    {
     "name": "stderr",
     "output_type": "stream",
     "text": [
      "[nltk_data] Downloading package punkt to\n",
      "[nltk_data]     C:\\Users\\A1D5688\\AppData\\Roaming\\nltk_data...\n",
      "[nltk_data]   Package punkt is already up-to-date!\n",
      "[nltk_data] Downloading package wordnet to\n",
      "[nltk_data]     C:\\Users\\A1D5688\\AppData\\Roaming\\nltk_data...\n",
      "[nltk_data]   Package wordnet is already up-to-date!\n",
      "[nltk_data] Downloading package stopwords to\n",
      "[nltk_data]     C:\\Users\\A1D5688\\AppData\\Roaming\\nltk_data...\n",
      "[nltk_data]   Package stopwords is already up-to-date!\n"
     ]
    },
    {
     "data": {
      "text/plain": "True"
     },
     "execution_count": 42,
     "metadata": {},
     "output_type": "execute_result"
    }
   ],
   "source": [
    "# Download NLTK resources if not already downloaded\n",
    "import nltk\n",
    "\n",
    "nltk.download('punkt')\n",
    "nltk.download('wordnet')\n",
    "nltk.download('stopwords')"
   ],
   "metadata": {
    "collapsed": false,
    "ExecuteTime": {
     "end_time": "2024-06-07T17:20:24.263215600Z",
     "start_time": "2024-06-07T17:20:24.247250100Z"
    }
   },
   "id": "c428ae07f926bf97"
  },
  {
   "metadata": {
    "ExecuteTime": {
     "end_time": "2024-06-07T17:20:25.224290700Z",
     "start_time": "2024-06-07T17:20:24.254214200Z"
    }
   },
   "cell_type": "code",
   "source": [
    "# Create a pandas DataFrame\n",
    "csv_file = r'IMDB Dataset.csv'\n",
    "df = pd.read_csv(csv_file)"
   ],
   "id": "c857b0ad7bdd67e2",
   "outputs": [],
   "execution_count": 43
  },
  {
   "cell_type": "code",
   "execution_count": 44,
   "outputs": [],
   "source": [
    "stop_words1 = list(stopwords.words('english'))\n",
    "specific_words1 = [\"br\", \"positive\", \"negative\",\"stupid\", \"horrible\", \"ever\", \"even\", \"waste\", \"movie\", \"one\",\"story\", \"movies\", \"book\", \"film\", \"show\", \"good\", \"bad\", \"worst\", \"episode\", \"tv\", \"watch\", \"series\", \"really\", \"great\", \"like\", \"would\", \"see\", \"well\", \"people\", \"much\", \"get\", \"think\"]\n",
    "stop_words = stop_words1+specific_words1"
   ],
   "metadata": {
    "collapsed": false,
    "ExecuteTime": {
     "end_time": "2024-06-07T17:20:25.269310300Z",
     "start_time": "2024-06-07T17:20:25.226778400Z"
    }
   },
   "id": "4f3b35fb66a77b52"
  },
  {
   "metadata": {
    "ExecuteTime": {
     "end_time": "2024-06-07T17:20:32.821733Z",
     "start_time": "2024-06-07T17:20:25.233297900Z"
    }
   },
   "cell_type": "code",
   "source": [
    "vectorizer = TfidfVectorizer(stop_words=stop_words)\n",
    "X = vectorizer.fit_transform(df['review'])"
   ],
   "id": "c5858523b409646",
   "outputs": [],
   "execution_count": 45
  },
  {
   "metadata": {
    "ExecuteTime": {
     "end_time": "2024-06-07T17:20:35.049105900Z",
     "start_time": "2024-06-07T17:20:32.823738100Z"
    }
   },
   "cell_type": "code",
   "source": [
    "# Perform truncated SVD\n",
    "svd = TruncatedSVD(n_components=5)\n",
    "decomposed_matrix = svd.fit_transform(X)"
   ],
   "id": "2e5a60841d18cc67",
   "outputs": [],
   "execution_count": 46
  },
  {
   "metadata": {
    "ExecuteTime": {
     "end_time": "2024-06-07T17:20:35.235129800Z",
     "start_time": "2024-06-07T17:20:35.174099800Z"
    }
   },
   "cell_type": "code",
   "source": [
    "# Get topics\n",
    "terms = vectorizer.get_feature_names_out()\n",
    "topic_weights = svd.components_\n",
    "topics = []\n",
    "for i, topic_weights_ in enumerate(topic_weights):\n",
    "    top_terms = [terms[idx] for idx in topic_weights_.argsort()[:-10:-1]]\n",
    "    topics.append(top_terms)"
   ],
   "id": "8175cbed10f118ba",
   "outputs": [],
   "execution_count": 47
  },
  {
   "metadata": {
    "ExecuteTime": {
     "end_time": "2024-06-07T17:20:35.247206900Z",
     "start_time": "2024-06-07T17:20:35.237133100Z"
    }
   },
   "cell_type": "code",
   "source": [
    "# Print topics\n",
    "for i, topic in enumerate(topics):\n",
    "    print(f\"Topic {i+1}:\")\n",
    "    print(\", \".join(topic))"
   ],
   "id": "1850fc65b8c3daa4",
   "outputs": [
    {
     "name": "stdout",
     "output_type": "stream",
     "text": [
      "Topic 1:\n",
      "time, first, could, made, make, seen, acting, also, characters\n",
      "Topic 2:\n",
      "horror, acting, terrible, effects, plot, awful, watching, budget, seen\n",
      "Topic 3:\n",
      "funny, love, saw, comedy, watching, time, watched, laugh, loved\n",
      "Topic 4:\n",
      "films, best, seen, acting, actors, excellent, cast, 10, music\n",
      "Topic 5:\n",
      "horror, funny, comedy, fun, old, 10, kids, little, films\n"
     ]
    }
   ],
   "execution_count": 48
  }
 ],
 "metadata": {
  "kernelspec": {
   "display_name": "Python 3",
   "language": "python",
   "name": "python3"
  },
  "language_info": {
   "codemirror_mode": {
    "name": "ipython",
    "version": 2
   },
   "file_extension": ".py",
   "mimetype": "text/x-python",
   "name": "python",
   "nbconvert_exporter": "python",
   "pygments_lexer": "ipython2",
   "version": "2.7.6"
  }
 },
 "nbformat": 4,
 "nbformat_minor": 5
}
